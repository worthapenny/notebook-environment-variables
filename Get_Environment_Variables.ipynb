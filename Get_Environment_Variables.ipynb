{
 "cells": [
  {
   "cell_type": "code",
   "execution_count": null,
   "metadata": {},
   "outputs": [],
   "source": [
    "import os\n",
    "import pandas as pd"
   ]
  },
  {
   "cell_type": "code",
   "execution_count": null,
   "metadata": {},
   "outputs": [],
   "source": [
    "# display all results (not just the last one)\n",
    "from IPython.core.interactiveshell import InteractiveShell\n",
    "InteractiveShell.ast_node_interactivity = \"all\"\n",
    "\n",
    "# Show intellisense\n",
    "%config IPCompleter.greedy=True\n",
    "#after '.' press tab"
   ]
  },
  {
   "cell_type": "code",
   "execution_count": null,
   "metadata": {
    "scrolled": false
   },
   "outputs": [],
   "source": [
    "# Run this to get a full list of environment variables\n",
    "os.environ"
   ]
  },
  {
   "cell_type": "code",
   "execution_count": null,
   "metadata": {
    "scrolled": true
   },
   "outputs": [],
   "source": [
    "# From the link below all the env variables for windows 10 are collected to a CSV\n",
    "# https://docs.microsoft.com/en-us/windows/deployment/usmt/usmt-recognized-environment-variables\n",
    "\n",
    "csv_data = pd.read_csv(\"EnvVariable.csv\", encoding='utf-8') #CSV is in the same dir where this ipynb is.\n",
    "csv_data.head()"
   ]
  },
  {
   "cell_type": "code",
   "execution_count": null,
   "metadata": {},
   "outputs": [],
   "source": [
    "# Method below will not work because of some KeyError that it runs into\n",
    "# csv_data[\"Value\"] = os.environ[\"%s\" % csv_data[\"Variable\"]]    \n",
    "\n",
    "# So, let's do one my one in a loop\n",
    "\n",
    "envValues = []\n",
    "for variable in csv_data[\"Variable\"]:\n",
    "    try:\n",
    "        value = os.environ[\"%s\" % variable]   \n",
    "        envValues.append(value)\n",
    "    except:\n",
    "        envValues.append(\"\")\n",
    "        pass\n",
    "    \n",
    "csv_data[\"Value\"] = envValues\n",
    "csv_data"
   ]
  }
 ],
 "metadata": {
  "kernelspec": {
   "display_name": "Python 3",
   "language": "python",
   "name": "python3"
  },
  "language_info": {
   "codemirror_mode": {
    "name": "ipython",
    "version": 3
   },
   "file_extension": ".py",
   "mimetype": "text/x-python",
   "name": "python",
   "nbconvert_exporter": "python",
   "pygments_lexer": "ipython3",
   "version": "3.7.3"
  }
 },
 "nbformat": 4,
 "nbformat_minor": 2
}
